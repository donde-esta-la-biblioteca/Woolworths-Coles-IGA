{
 "cells": [
  {
   "cell_type": "code",
   "execution_count": 4,
   "id": "faced-slovenia",
   "metadata": {},
   "outputs": [],
   "source": [
    "import pandas as pd\n",
    "# pd.set_option('display.max_rows', 500)"
   ]
  },
  {
   "cell_type": "markdown",
   "id": "median-single",
   "metadata": {
    "tags": []
   },
   "source": [
    "## Cleaning the datasets from each supermarket for uniformity and consistency"
   ]
  },
  {
   "cell_type": "markdown",
   "id": "dependent-manchester",
   "metadata": {},
   "source": [
    "## Woolworths\n",
    "\n",
    "Data integrity has been checked - audit conducted on 22-Apr-2021. \n",
    "\n",
    "When Prices are not empty and Online Only is deselected, the dataset will match all the 'available' products on the website (i.e. ones which have a price and does not say 'unavailable')."
   ]
  },
  {
   "cell_type": "code",
   "execution_count": 5,
   "id": "union-examination",
   "metadata": {
    "tags": []
   },
   "outputs": [],
   "source": [
    "df_wow = pd.read_csv('Data/2021-04-23 WOW Data.csv', encoding='utf-8-sig').fillna('')"
   ]
  },
  {
   "cell_type": "code",
   "execution_count": 6,
   "id": "enormous-nevada",
   "metadata": {},
   "outputs": [],
   "source": [
    "# Remove commas within Category names - makes exploding easier. \n",
    "# I do this \"un-compressing\" of duplicate items into their corresponding categories here to save space - can easily be done at the scraper stage.\n",
    "\n",
    "df_wow['Department'] = df_wow['Department'].apply(\n",
    "    lambda x: x.replace('Meat, Seafood & Deli', 'Meat Seafood & Deli').replace('Dairy, Eggs & Fridge', 'Dairy Eggs & Fridge').replace(\"'\", \"\").strip(\"[]\")\n",
    ")"
   ]
  },
  {
   "cell_type": "code",
   "execution_count": 7,
   "id": "breathing-kruger",
   "metadata": {},
   "outputs": [],
   "source": [
    "# Change _pk to _ pack in Package Size (i.e. 6pk --> 6 pack)\n",
    "\n",
    "df_wow['Package Size'] = df_wow['Package Size'].apply(lambda x: x.replace('pk', ' pack')).apply(lambda x: x.replace('l', 'L'))"
   ]
  },
  {
   "cell_type": "code",
   "execution_count": 8,
   "id": "authentic-snake",
   "metadata": {},
   "outputs": [],
   "source": [
    "# Filter:\n",
    "# - Not Tobacco - because inaccessible behind login wall\n",
    "# - Price is not empty - which means it's unavilable\n",
    "\n",
    "filter = (df_wow['Department'] != 'Tobacco Product') & (df_wow['Price'] != '')\n",
    "df_wow = df_wow.loc[filter]"
   ]
  },
  {
   "cell_type": "code",
   "execution_count": 9,
   "id": "quiet-violation",
   "metadata": {},
   "outputs": [],
   "source": [
    "# Products which are in multiple categories are \"exploded\" into those categories individually with only that category name attached in the Department column.\n",
    "'''E.g.: \n",
    "Product Name: Tasmanian Heritage Double Brie Cheese Snack \t\n",
    "Department: ['Meat, Seafood & Deli', 'Dairy, Eggs & Fridge']\n",
    "\n",
    "The above will be separated out into 2 different lines with the same Product Name but one having 'Meat, Seafood & Deli', \n",
    "and the other line with 'Dairy, Eggs & Fridge' in the Department column.\n",
    "'''\n",
    "\n",
    "df_wow = df_wow.assign(Department=df_wow.Department.str.split(', ')).explode('Department')"
   ]
  },
  {
   "cell_type": "code",
   "execution_count": 10,
   "id": "advised-association",
   "metadata": {},
   "outputs": [],
   "source": [
    "# Liquor is also removed because Woolworths' sales of Liquor are actually BWS stock. Done after exploding to remove the duplicates from Drinks that remain in Liquor.\n",
    "\n",
    "df_wow = df_wow.loc[df_wow['Department'] != 'Liquor']"
   ]
  },
  {
   "cell_type": "code",
   "execution_count": 11,
   "id": "spanish-steam",
   "metadata": {},
   "outputs": [],
   "source": [
    "# Products with no categories assigned are now named \"NOT LISTED\"\n",
    "\n",
    "df_wow['Department'] = df_wow['Department'].apply(lambda x: 'NOT LISTED' if x == '' else x)"
   ]
  },
  {
   "cell_type": "code",
   "execution_count": 12,
   "id": "desperate-baker",
   "metadata": {},
   "outputs": [],
   "source": [
    "# Concatenating Product Name with Package Size to standardize labelling. Essential for next steps, fuzzymatching and inner merge.\n",
    "\n",
    "df_wow['Brand_Product_Size'] = df_wow['Product Name'] + \" \" + df_wow['Package Size']"
   ]
  },
  {
   "cell_type": "code",
   "execution_count": 13,
   "id": "republican-david",
   "metadata": {},
   "outputs": [],
   "source": [
    "# Re-arrange columns and rename (to reflect what supermarket it belongs to).\n",
    "\n",
    "df_wow = df_wow[\n",
    "    ['SKU', 'Brand_Product_Size', 'Brand', 'Product Name', \n",
    "     'Price', 'Package Size', 'Price per unit', 'Specials', \n",
    "     'Department', 'Online Only', 'New Product', 'Product URL']].reset_index(drop=True)\n",
    "\n",
    "df_wow = df_wow.rename(columns={\n",
    "    'Price': 'WOW Price',\n",
    "    'Package Size': 'WOW Size',\n",
    "    'Price per unit': 'WOW ppu',\n",
    "    'Specials': 'WOW Specials',\n",
    "    'Department': 'WOW Category'\n",
    "})"
   ]
  },
  {
   "cell_type": "code",
   "execution_count": 14,
   "id": "julian-carolina",
   "metadata": {},
   "outputs": [
    {
     "data": {
      "text/html": [
       "<div>\n",
       "<style scoped>\n",
       "    .dataframe tbody tr th:only-of-type {\n",
       "        vertical-align: middle;\n",
       "    }\n",
       "\n",
       "    .dataframe tbody tr th {\n",
       "        vertical-align: top;\n",
       "    }\n",
       "\n",
       "    .dataframe thead th {\n",
       "        text-align: right;\n",
       "    }\n",
       "</style>\n",
       "<table border=\"1\" class=\"dataframe\">\n",
       "  <thead>\n",
       "    <tr style=\"text-align: right;\">\n",
       "      <th></th>\n",
       "      <th>SKU</th>\n",
       "      <th>Brand_Product_Size</th>\n",
       "      <th>Brand</th>\n",
       "      <th>Product Name</th>\n",
       "      <th>WOW Price</th>\n",
       "      <th>WOW Size</th>\n",
       "      <th>WOW ppu</th>\n",
       "      <th>WOW Specials</th>\n",
       "      <th>WOW Category</th>\n",
       "      <th>Online Only</th>\n",
       "      <th>New Product</th>\n",
       "      <th>Product URL</th>\n",
       "    </tr>\n",
       "  </thead>\n",
       "  <tbody>\n",
       "    <tr>\n",
       "      <th>0</th>\n",
       "      <td>814139</td>\n",
       "      <td>Em Wholefoods Hemp Oil Cold Pressed 250mL</td>\n",
       "      <td>em wholefoods</td>\n",
       "      <td>Em Wholefoods Hemp Oil Cold Pressed</td>\n",
       "      <td>19.95</td>\n",
       "      <td>250mL</td>\n",
       "      <td>$7.98 / 100ML</td>\n",
       "      <td></td>\n",
       "      <td>Pantry</td>\n",
       "      <td></td>\n",
       "      <td></td>\n",
       "      <td>https://www.woolworths.com.au/shop/productdeta...</td>\n",
       "    </tr>\n",
       "    <tr>\n",
       "      <th>1</th>\n",
       "      <td>84972</td>\n",
       "      <td>Happy Little Camper Newborn Natural Nappies 36...</td>\n",
       "      <td>happy little camper</td>\n",
       "      <td>Happy Little Camper Newborn Natural Nappies</td>\n",
       "      <td>14.0</td>\n",
       "      <td>36 pack</td>\n",
       "      <td>$0.39 / 1EA</td>\n",
       "      <td></td>\n",
       "      <td>Baby</td>\n",
       "      <td></td>\n",
       "      <td></td>\n",
       "      <td>https://www.woolworths.com.au/shop/productdeta...</td>\n",
       "    </tr>\n",
       "    <tr>\n",
       "      <th>2</th>\n",
       "      <td>95412</td>\n",
       "      <td>Spc Spaghetti Rich Tomato 140g x12 pack</td>\n",
       "      <td>spc</td>\n",
       "      <td>Spc Spaghetti Rich Tomato</td>\n",
       "      <td>10.5</td>\n",
       "      <td>140g x12 pack</td>\n",
       "      <td>$0.63 / 100G</td>\n",
       "      <td></td>\n",
       "      <td>Pantry</td>\n",
       "      <td></td>\n",
       "      <td></td>\n",
       "      <td>https://www.woolworths.com.au/shop/productdeta...</td>\n",
       "    </tr>\n",
       "    <tr>\n",
       "      <th>3</th>\n",
       "      <td>99040</td>\n",
       "      <td>Mint Glazed Antipasto Dish Blue each</td>\n",
       "      <td>mint</td>\n",
       "      <td>Mint Glazed Antipasto Dish Blue</td>\n",
       "      <td>2.0</td>\n",
       "      <td>each</td>\n",
       "      <td></td>\n",
       "      <td></td>\n",
       "      <td>NOT LISTED</td>\n",
       "      <td></td>\n",
       "      <td></td>\n",
       "      <td>https://www.woolworths.com.au/shop/productdeta...</td>\n",
       "    </tr>\n",
       "    <tr>\n",
       "      <th>4</th>\n",
       "      <td>808305</td>\n",
       "      <td>Seedlip Grove 42 Alcohol Free 700mL</td>\n",
       "      <td>seedlip</td>\n",
       "      <td>Seedlip Grove 42 Alcohol Free</td>\n",
       "      <td>50.0</td>\n",
       "      <td>700mL</td>\n",
       "      <td>$71.43 / 1L</td>\n",
       "      <td></td>\n",
       "      <td>Drinks</td>\n",
       "      <td></td>\n",
       "      <td></td>\n",
       "      <td>https://www.woolworths.com.au/shop/productdeta...</td>\n",
       "    </tr>\n",
       "  </tbody>\n",
       "</table>\n",
       "</div>"
      ],
      "text/plain": [
       "      SKU                                 Brand_Product_Size  \\\n",
       "0  814139          Em Wholefoods Hemp Oil Cold Pressed 250mL   \n",
       "1   84972  Happy Little Camper Newborn Natural Nappies 36...   \n",
       "2   95412            Spc Spaghetti Rich Tomato 140g x12 pack   \n",
       "3   99040               Mint Glazed Antipasto Dish Blue each   \n",
       "4  808305                Seedlip Grove 42 Alcohol Free 700mL   \n",
       "\n",
       "                 Brand                                 Product Name WOW Price  \\\n",
       "0        em wholefoods          Em Wholefoods Hemp Oil Cold Pressed     19.95   \n",
       "1  happy little camper  Happy Little Camper Newborn Natural Nappies      14.0   \n",
       "2                  spc                    Spc Spaghetti Rich Tomato      10.5   \n",
       "3                 mint              Mint Glazed Antipasto Dish Blue       2.0   \n",
       "4              seedlip                Seedlip Grove 42 Alcohol Free      50.0   \n",
       "\n",
       "        WOW Size        WOW ppu WOW Specials WOW Category Online Only  \\\n",
       "0          250mL  $7.98 / 100ML                    Pantry               \n",
       "1        36 pack    $0.39 / 1EA                      Baby               \n",
       "2  140g x12 pack   $0.63 / 100G                    Pantry               \n",
       "3           each                               NOT LISTED               \n",
       "4          700mL    $71.43 / 1L                    Drinks               \n",
       "\n",
       "  New Product                                        Product URL  \n",
       "0              https://www.woolworths.com.au/shop/productdeta...  \n",
       "1              https://www.woolworths.com.au/shop/productdeta...  \n",
       "2              https://www.woolworths.com.au/shop/productdeta...  \n",
       "3              https://www.woolworths.com.au/shop/productdeta...  \n",
       "4              https://www.woolworths.com.au/shop/productdeta...  "
      ]
     },
     "execution_count": 14,
     "metadata": {},
     "output_type": "execute_result"
    }
   ],
   "source": [
    "df_wow.head()"
   ]
  },
  {
   "cell_type": "code",
   "execution_count": 15,
   "id": "selective-problem",
   "metadata": {},
   "outputs": [],
   "source": [
    "# Output cleaned data to csv file\n",
    "\n",
    "df_wow.to_csv('1. Cleaned Data/Woolworths.csv', index=False, encoding='utf-8-sig')"
   ]
  },
  {
   "cell_type": "markdown",
   "id": "approved-suspension",
   "metadata": {},
   "source": [
    "\n"
   ]
  },
  {
   "cell_type": "markdown",
   "id": "pressed-gathering",
   "metadata": {},
   "source": [
    "## Coles\n",
    "\n",
    "Data Integrity is good - audit has been conducted on the scraped data. \n",
    "Since, products are constantly uploaded/removed, there is a tiny difference over the 2hr+ time delta between\n",
    "starting scraping process and completion."
   ]
  },
  {
   "cell_type": "code",
   "execution_count": 16,
   "id": "specialized-marble",
   "metadata": {},
   "outputs": [],
   "source": [
    "df_coles = pd.read_csv('Data/2021-04-23 Coles Data.csv', encoding='utf-8-sig').fillna('')"
   ]
  },
  {
   "cell_type": "code",
   "execution_count": 17,
   "id": "passing-thermal",
   "metadata": {},
   "outputs": [],
   "source": [
    "# Modify the Unit Size formatting: Replace '1 each' with 'each', and make all the units lower case to be consistent with Woolworths.\n",
    "\n",
    "df_coles['Unit Size'] = df_coles['Unit Size'].apply(lambda x: x.replace('1 each', 'each').lower()).apply(lambda x: x.replace('l', 'L'))\n",
    "\n",
    "# Concatenate Brand name, Product Name and Packaging Size into a new column. This column is key for next steps in fuzzymatching and inner merge.\n",
    "\n",
    "df_coles['Brand_Product_Size'] = df_coles['Brand'] + ' ' + df_coles['Product Name'] + ' ' + df_coles['Unit Size']"
   ]
  },
  {
   "cell_type": "code",
   "execution_count": 18,
   "id": "controversial-circuit",
   "metadata": {},
   "outputs": [],
   "source": [
    "# Cleaning up the text output in Category. Replace '--' and '-' with one space. Capitalize first letter(s).\n",
    "\n",
    "df_coles.Category = df_coles.Category.apply(lambda x: x.replace('--', ' ').replace('-', ' ').title())"
   ]
  },
  {
   "cell_type": "code",
   "execution_count": 19,
   "id": "accessory-singapore",
   "metadata": {},
   "outputs": [],
   "source": [
    "# Remove unavailable items and Liquor category - non-alcoholic items should all be duplicated in other categories so there is no information loss.\n",
    "\n",
    "df_coles = df_coles.loc[(df_coles['Availability'] == 'Available') & (df_coles['Category'] != 'Liquor')]"
   ]
  },
  {
   "cell_type": "code",
   "execution_count": 20,
   "id": "defensive-dictionary",
   "metadata": {},
   "outputs": [],
   "source": [
    "# Select only the necessary columns and rename with COL tag to reflect Coles.\n",
    "\n",
    "df_coles = df_coles[['SKU', 'Brand_Product_Size', 'Brand', 'Product Name', 'Current Price', \n",
    "                     'Price per unit', 'Unit Size', 'On Special', 'Category', 'URL']]\n",
    "\n",
    "df_coles = df_coles.rename(columns={\n",
    "    'Current Price': 'COL Price',\n",
    "    'Price per unit': 'COL ppu',\n",
    "    'Unit Size': 'COL Size',\n",
    "    'On Special': 'COL Specials',\n",
    "    'Category': 'COL Category',\n",
    "    'URL': 'Product URL'\n",
    "})"
   ]
  },
  {
   "cell_type": "code",
   "execution_count": 21,
   "id": "systematic-peeing",
   "metadata": {},
   "outputs": [
    {
     "data": {
      "text/html": [
       "<div>\n",
       "<style scoped>\n",
       "    .dataframe tbody tr th:only-of-type {\n",
       "        vertical-align: middle;\n",
       "    }\n",
       "\n",
       "    .dataframe tbody tr th {\n",
       "        vertical-align: top;\n",
       "    }\n",
       "\n",
       "    .dataframe thead th {\n",
       "        text-align: right;\n",
       "    }\n",
       "</style>\n",
       "<table border=\"1\" class=\"dataframe\">\n",
       "  <thead>\n",
       "    <tr style=\"text-align: right;\">\n",
       "      <th></th>\n",
       "      <th>SKU</th>\n",
       "      <th>Brand_Product_Size</th>\n",
       "      <th>Brand</th>\n",
       "      <th>Product Name</th>\n",
       "      <th>COL Price</th>\n",
       "      <th>COL ppu</th>\n",
       "      <th>COL Size</th>\n",
       "      <th>COL Specials</th>\n",
       "      <th>COL Category</th>\n",
       "      <th>Product URL</th>\n",
       "    </tr>\n",
       "  </thead>\n",
       "  <tbody>\n",
       "    <tr>\n",
       "      <th>0</th>\n",
       "      <td>3980255P</td>\n",
       "      <td>Head &amp; Shoulders Conditioner Smooth &amp; Silky 660mL</td>\n",
       "      <td>Head &amp; Shoulders</td>\n",
       "      <td>Conditioner Smooth &amp; Silky</td>\n",
       "      <td>17.0</td>\n",
       "      <td>$2.58 per 100mL</td>\n",
       "      <td>660mL</td>\n",
       "      <td></td>\n",
       "      <td>Health Beauty</td>\n",
       "      <td>https://shop.coles.com.au/a/national/product/s...</td>\n",
       "    </tr>\n",
       "    <tr>\n",
       "      <th>1</th>\n",
       "      <td>3838775P</td>\n",
       "      <td>Coles Jujube Prepack 400g</td>\n",
       "      <td>Coles</td>\n",
       "      <td>Jujube Prepack</td>\n",
       "      <td>9.9</td>\n",
       "      <td>$24.75 per 1Kg</td>\n",
       "      <td>400g</td>\n",
       "      <td></td>\n",
       "      <td>Fruit Vegetables</td>\n",
       "      <td>https://shop.coles.com.au/a/national/product/f...</td>\n",
       "    </tr>\n",
       "    <tr>\n",
       "      <th>2</th>\n",
       "      <td>3760496P</td>\n",
       "      <td>The Spice Tailor Malabar Biryani 360g</td>\n",
       "      <td>The Spice Tailor</td>\n",
       "      <td>Malabar Biryani</td>\n",
       "      <td>5.5</td>\n",
       "      <td>$1.53 per 100G</td>\n",
       "      <td>360g</td>\n",
       "      <td></td>\n",
       "      <td>International Foods</td>\n",
       "      <td>https://shop.coles.com.au/a/national/product/t...</td>\n",
       "    </tr>\n",
       "    <tr>\n",
       "      <th>3</th>\n",
       "      <td>6046740P</td>\n",
       "      <td>Fantastic Crispy Bacon Noodle Cup 70g</td>\n",
       "      <td>Fantastic</td>\n",
       "      <td>Crispy Bacon Noodle Cup</td>\n",
       "      <td>1.6</td>\n",
       "      <td>$2.29 per 100G</td>\n",
       "      <td>70g</td>\n",
       "      <td></td>\n",
       "      <td>Pantry</td>\n",
       "      <td>https://shop.coles.com.au/a/national/product/f...</td>\n",
       "    </tr>\n",
       "    <tr>\n",
       "      <th>4</th>\n",
       "      <td>403765P</td>\n",
       "      <td>McCain Frozen Ham &amp; Pineapple Family Pizza 500g</td>\n",
       "      <td>McCain</td>\n",
       "      <td>Frozen Ham &amp; Pineapple Family Pizza</td>\n",
       "      <td>5.5</td>\n",
       "      <td>$1.10 per 100G</td>\n",
       "      <td>500g</td>\n",
       "      <td>Specials</td>\n",
       "      <td>Frozen</td>\n",
       "      <td>https://shop.coles.com.au/a/national/product/m...</td>\n",
       "    </tr>\n",
       "  </tbody>\n",
       "</table>\n",
       "</div>"
      ],
      "text/plain": [
       "        SKU                                 Brand_Product_Size  \\\n",
       "0  3980255P  Head & Shoulders Conditioner Smooth & Silky 660mL   \n",
       "1  3838775P                          Coles Jujube Prepack 400g   \n",
       "2  3760496P              The Spice Tailor Malabar Biryani 360g   \n",
       "3  6046740P              Fantastic Crispy Bacon Noodle Cup 70g   \n",
       "4   403765P    McCain Frozen Ham & Pineapple Family Pizza 500g   \n",
       "\n",
       "              Brand                         Product Name COL Price  \\\n",
       "0  Head & Shoulders           Conditioner Smooth & Silky      17.0   \n",
       "1             Coles                       Jujube Prepack       9.9   \n",
       "2  The Spice Tailor                      Malabar Biryani       5.5   \n",
       "3         Fantastic              Crispy Bacon Noodle Cup       1.6   \n",
       "4            McCain  Frozen Ham & Pineapple Family Pizza       5.5   \n",
       "\n",
       "           COL ppu COL Size COL Specials         COL Category  \\\n",
       "0  $2.58 per 100mL    660mL                     Health Beauty   \n",
       "1   $24.75 per 1Kg     400g                  Fruit Vegetables   \n",
       "2   $1.53 per 100G     360g               International Foods   \n",
       "3   $2.29 per 100G      70g                            Pantry   \n",
       "4   $1.10 per 100G     500g     Specials               Frozen   \n",
       "\n",
       "                                         Product URL  \n",
       "0  https://shop.coles.com.au/a/national/product/s...  \n",
       "1  https://shop.coles.com.au/a/national/product/f...  \n",
       "2  https://shop.coles.com.au/a/national/product/t...  \n",
       "3  https://shop.coles.com.au/a/national/product/f...  \n",
       "4  https://shop.coles.com.au/a/national/product/m...  "
      ]
     },
     "execution_count": 21,
     "metadata": {},
     "output_type": "execute_result"
    }
   ],
   "source": [
    "df_coles.head()"
   ]
  },
  {
   "cell_type": "code",
   "execution_count": 22,
   "id": "remarkable-cycle",
   "metadata": {},
   "outputs": [],
   "source": [
    "df_coles.to_csv('1. Cleaned Data/Coles.csv', encoding='utf-8-sig', index=False)"
   ]
  },
  {
   "cell_type": "markdown",
   "id": "documentary-constraint",
   "metadata": {},
   "source": [
    "## IGA"
   ]
  },
  {
   "cell_type": "code",
   "execution_count": 36,
   "id": "wrapped-punch",
   "metadata": {},
   "outputs": [],
   "source": [
    "df_iga = pd.read_csv('Data/2021-04-23 IGA Data.csv', encoding='utf-8-sig')"
   ]
  },
  {
   "cell_type": "code",
   "execution_count": 37,
   "id": "optional-angola",
   "metadata": {},
   "outputs": [],
   "source": [
    "# Replace 'gm' with 'g' if found at the end of Product Name.\n",
    "\n",
    "import re\n",
    "\n",
    "df_iga['Product Name'] = df_iga['Product Name'].apply(lambda x: re.sub(r'gm$', 'g', x))\n",
    "\n",
    "# Replace 'pk' using regex rule: Look behind for 'pk' and replace with ' pack'\n",
    "\n",
    "df_iga['Product Name'] = df_iga['Product Name'].apply(lambda x: re.sub(r'(?<=\\d)pk', ' pack', x))\n",
    "\n",
    "# Capitalise 'l' that follows numbers\n",
    "\n",
    "df_iga['Product Name'] = df_iga['Product Name'].apply(lambda x: re.sub(r'(?<=\\d)l', 'L', x))"
   ]
  },
  {
   "cell_type": "code",
   "execution_count": 38,
   "id": "liable-garage",
   "metadata": {},
   "outputs": [],
   "source": [
    "# Tidying up formatting. SKU - change float to string, remove decimals. Select only relevant columns, rename to reflect it's IGA.\n",
    "\n",
    "df_iga.SKU = df_iga['SKU'].astype(str).apply(lambda x: x[:-2])\n",
    "\n",
    "df_iga = df_iga[['SKU', 'Product Name', 'Price', 'Price per unit', 'Main Category', 'Product URL']]\n",
    "\n",
    "df_iga = df_iga.rename(columns={\n",
    "    'Product Name': 'Brand_Product_Size',\n",
    "    'Price': 'IGA Price',\n",
    "    'Price per unit': 'IGA ppu',\n",
    "    'Main Category': 'IGA Category'\n",
    "})"
   ]
  },
  {
   "cell_type": "code",
   "execution_count": 39,
   "id": "centered-elite",
   "metadata": {},
   "outputs": [],
   "source": [
    "# Replace '-' with space and capitalize first letter(s) in Category.\n",
    "\n",
    "df_iga['IGA Category'] = df_iga['IGA Category'].apply(lambda x: x.replace('-', ' ').title())"
   ]
  },
  {
   "cell_type": "code",
   "execution_count": 40,
   "id": "casual-feature",
   "metadata": {},
   "outputs": [
    {
     "data": {
      "text/html": [
       "<div>\n",
       "<style scoped>\n",
       "    .dataframe tbody tr th:only-of-type {\n",
       "        vertical-align: middle;\n",
       "    }\n",
       "\n",
       "    .dataframe tbody tr th {\n",
       "        vertical-align: top;\n",
       "    }\n",
       "\n",
       "    .dataframe thead th {\n",
       "        text-align: right;\n",
       "    }\n",
       "</style>\n",
       "<table border=\"1\" class=\"dataframe\">\n",
       "  <thead>\n",
       "    <tr style=\"text-align: right;\">\n",
       "      <th></th>\n",
       "      <th>SKU</th>\n",
       "      <th>Brand_Product_Size</th>\n",
       "      <th>IGA Price</th>\n",
       "      <th>IGA ppu</th>\n",
       "      <th>IGA Category</th>\n",
       "      <th>Product URL</th>\n",
       "    </tr>\n",
       "  </thead>\n",
       "  <tbody>\n",
       "    <tr>\n",
       "      <th>0</th>\n",
       "      <td>9300675009775</td>\n",
       "      <td>Diet Coke Soft Drink 600ml</td>\n",
       "      <td>4.10</td>\n",
       "      <td>2.46 per litre</td>\n",
       "      <td>Drinks</td>\n",
       "      <td>https://igashop.com.au/product/diet-coke-soft-...</td>\n",
       "    </tr>\n",
       "    <tr>\n",
       "      <th>1</th>\n",
       "      <td>4155</td>\n",
       "      <td>Granny Smith Apple</td>\n",
       "      <td>0.99</td>\n",
       "      <td>5.50 per kg</td>\n",
       "      <td>Fruit &amp; Veg</td>\n",
       "      <td>https://igashop.com.au/product/granny-smith-ap...</td>\n",
       "    </tr>\n",
       "    <tr>\n",
       "      <th>2</th>\n",
       "      <td>4156</td>\n",
       "      <td>Pink Lady Apple</td>\n",
       "      <td>1.20</td>\n",
       "      <td>6.00 per kg</td>\n",
       "      <td>Fruit &amp; Veg</td>\n",
       "      <td>https://igashop.com.au/product/pink-lady-apple/</td>\n",
       "    </tr>\n",
       "    <tr>\n",
       "      <th>3</th>\n",
       "      <td>9310023141460</td>\n",
       "      <td>Helga’s Wraps Traditional White 8 Pack 560g</td>\n",
       "      <td>5.55</td>\n",
       "      <td>0.99 per 100g</td>\n",
       "      <td>Bakery</td>\n",
       "      <td>https://igashop.com.au/product/helgas-wraps-tr...</td>\n",
       "    </tr>\n",
       "    <tr>\n",
       "      <th>4</th>\n",
       "      <td>9310023141446</td>\n",
       "      <td>Helga’s Mixed Grain Wraps 8 Pack 560g</td>\n",
       "      <td>5.55</td>\n",
       "      <td>0.99 per 100g</td>\n",
       "      <td>Bakery</td>\n",
       "      <td>https://igashop.com.au/product/helgas-mixed-gr...</td>\n",
       "    </tr>\n",
       "  </tbody>\n",
       "</table>\n",
       "</div>"
      ],
      "text/plain": [
       "             SKU                           Brand_Product_Size  IGA Price  \\\n",
       "0  9300675009775                   Diet Coke Soft Drink 600ml       4.10   \n",
       "1           4155                           Granny Smith Apple       0.99   \n",
       "2           4156                              Pink Lady Apple       1.20   \n",
       "3  9310023141460  Helga’s Wraps Traditional White 8 Pack 560g       5.55   \n",
       "4  9310023141446        Helga’s Mixed Grain Wraps 8 Pack 560g       5.55   \n",
       "\n",
       "          IGA ppu IGA Category  \\\n",
       "0  2.46 per litre       Drinks   \n",
       "1     5.50 per kg  Fruit & Veg   \n",
       "2     6.00 per kg  Fruit & Veg   \n",
       "3   0.99 per 100g       Bakery   \n",
       "4   0.99 per 100g       Bakery   \n",
       "\n",
       "                                         Product URL  \n",
       "0  https://igashop.com.au/product/diet-coke-soft-...  \n",
       "1  https://igashop.com.au/product/granny-smith-ap...  \n",
       "2    https://igashop.com.au/product/pink-lady-apple/  \n",
       "3  https://igashop.com.au/product/helgas-wraps-tr...  \n",
       "4  https://igashop.com.au/product/helgas-mixed-gr...  "
      ]
     },
     "execution_count": 40,
     "metadata": {},
     "output_type": "execute_result"
    }
   ],
   "source": [
    "df_iga.head()"
   ]
  },
  {
   "cell_type": "code",
   "execution_count": 41,
   "id": "mounted-orbit",
   "metadata": {},
   "outputs": [],
   "source": [
    "df_iga.to_csv('1. Cleaned Data/IGA.csv', encoding='utf-8-sig', index=False)"
   ]
  },
  {
   "cell_type": "markdown",
   "id": "large-induction",
   "metadata": {},
   "source": [
    "## Aldi"
   ]
  },
  {
   "cell_type": "code",
   "execution_count": null,
   "id": "specified-edition",
   "metadata": {},
   "outputs": [],
   "source": [
    "df_aldi = pd.read_csv('Data/2021-04-23 Aldi Data.csv', encoding='utf-8-sig')"
   ]
  },
  {
   "cell_type": "code",
   "execution_count": null,
   "id": "manufactured-health",
   "metadata": {},
   "outputs": [],
   "source": [
    "df_aldi.rename(columns={\n",
    "    'Sub Category': 'Aldi Category',\n",
    "    'Product': 'Product Name',\n",
    "    'Product Page': 'URL'\n",
    "}, inplace=True)\n",
    "\n",
    "df_aldi = df_aldi[['Product Name', 'Price', 'Unit Price', 'Aldi Category', 'URL']]"
   ]
  },
  {
   "cell_type": "code",
   "execution_count": null,
   "id": "irish-familiar",
   "metadata": {},
   "outputs": [],
   "source": [
    "df_aldi['Aldi Category'] = df_aldi['Aldi Category'].apply(lambda x: 'Dairy Eggs & Fridge' if x == 'fresh product' else x)\n",
    "df_aldi['Aldi Category'] = df_aldi['Aldi Category'].apply(lambda x: 'Health & Beauty' if x == 'beauty' or x == 'health' else x)\n",
    "df_aldi['Aldi Category'] = df_aldi['Aldi Category'].apply(lambda x: 'Household' if x == 'laundry household' else x)\n",
    "df_aldi['Aldi Category'] = df_aldi['Aldi Category'].apply(lambda x: 'Frozen' if x == 'freezer' else x)\n",
    "df_aldi['Aldi Category'] = df_aldi['Aldi Category'].apply(lambda x: x.title())"
   ]
  },
  {
   "cell_type": "code",
   "execution_count": null,
   "id": "absolute-greenhouse",
   "metadata": {},
   "outputs": [],
   "source": [
    "df_aldi['Aldi Category'].value_counts()"
   ]
  },
  {
   "cell_type": "code",
   "execution_count": null,
   "id": "brutal-adaptation",
   "metadata": {},
   "outputs": [],
   "source": [
    "df_aldi.to_csv('1. Cleaned Data/Aldi.csv', encoding='utf-8-sig', index=False)"
   ]
  },
  {
   "cell_type": "code",
   "execution_count": null,
   "id": "invalid-silence",
   "metadata": {},
   "outputs": [],
   "source": []
  }
 ],
 "metadata": {
  "kernelspec": {
   "display_name": "Python 3 (ipykernel)",
   "language": "python",
   "name": "python3"
  },
  "language_info": {
   "codemirror_mode": {
    "name": "ipython",
    "version": 3
   },
   "file_extension": ".py",
   "mimetype": "text/x-python",
   "name": "python",
   "nbconvert_exporter": "python",
   "pygments_lexer": "ipython3",
   "version": "3.9.6"
  }
 },
 "nbformat": 4,
 "nbformat_minor": 5
}
